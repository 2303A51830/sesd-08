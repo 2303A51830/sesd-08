{
  "nbformat": 4,
  "nbformat_minor": 0,
  "metadata": {
    "colab": {
      "provenance": []
    },
    "kernelspec": {
      "name": "python3",
      "display_name": "Python 3"
    },
    "language_info": {
      "name": "python"
    }
  },
  "cells": [
    {
      "cell_type": "code",
      "execution_count": 1,
      "metadata": {
        "colab": {
          "base_uri": "https://localhost:8080/"
        },
        "id": "CWdQl0bALP7r",
        "outputId": "6f49149a-d3f3-436e-96b8-af9d451ed7de"
      },
      "outputs": [
        {
          "output_type": "stream",
          "name": "stdout",
          "text": [
            "Writing library_system.py\n"
          ]
        }
      ],
      "source": [
        "%%writefile library_system.py\n",
        "from datetime import date, timedelta\n",
        "\n",
        "class Book:\n",
        "    def __init__(self, title, author, isbn):\n",
        "        self.title = title\n",
        "        self.author = author\n",
        "        self.isbn = isbn\n",
        "        self.is_available = True\n",
        "        self.due_date = None\n",
        "        self.borrowed_by = None\n",
        "\n",
        "    def __repr__(self):\n",
        "        return f\"{self.title} by {self.author} (ISBN: {self.isbn})\"\n",
        "\n",
        "\n",
        "class Member:\n",
        "    def __init__(self, name):\n",
        "        self.name = name\n",
        "        self.borrowed_books = []\n",
        "\n",
        "    def borrow_book(self, book):\n",
        "        if not book.is_available:\n",
        "            raise ValueError(\"Book is already borrowed.\")\n",
        "        book.is_available = False\n",
        "        book.borrowed_by = self\n",
        "        book.due_date = date.today() + timedelta(days=14)\n",
        "        self.borrowed_books.append(book)\n",
        "\n",
        "    def return_book(self, book):\n",
        "        if book not in self.borrowed_books:\n",
        "            raise ValueError(\"This book was not borrowed by this member.\")\n",
        "        self.borrowed_books.remove(book)\n",
        "        book.is_available = True\n",
        "        book.borrowed_by = None\n",
        "        return book\n",
        "\n",
        "\n",
        "class Library:\n",
        "    def __init__(self):\n",
        "        self.books = []\n",
        "        self.members = []\n",
        "\n",
        "    def add_book(self, book):\n",
        "        self.books.append(book)\n",
        "\n",
        "    def remove_book(self, isbn):\n",
        "        for book in self.books:\n",
        "            if book.isbn == isbn:\n",
        "                self.books.remove(book)\n",
        "                return True\n",
        "        raise ValueError(\"Book not found.\")\n",
        "\n",
        "    def search_book(self, title):\n",
        "        return [book for book in self.books if title.lower() in book.title.lower()]\n",
        "\n",
        "    def register_member(self, member):\n",
        "        self.members.append(member)\n",
        "\n",
        "    def issue_book(self, member, book):\n",
        "        member.borrow_book(book)\n",
        "\n",
        "    def return_book(self, member, book):\n",
        "        returned_book = member.return_book(book)\n",
        "        fine = self.calculate_fine(returned_book)\n",
        "        return fine\n",
        "\n",
        "    def calculate_fine(self, book):\n",
        "        if book.due_date and date.today() > book.due_date:\n",
        "            days_overdue = (date.today() - book.due_date).days\n",
        "            return days_overdue * 5\n",
        "        return 0\n"
      ]
    },
    {
      "cell_type": "code",
      "source": [
        "%%writefile test_library_system.py\n",
        "import pytest\n",
        "from datetime import date, timedelta\n",
        "from library_system import Book, Member, Library\n",
        "\n",
        "@pytest.fixture\n",
        "def setup_library():\n",
        "    lib = Library()\n",
        "    book1 = Book(\"Python 101\", \"Guido\", \"ISBN001\")\n",
        "    book2 = Book(\"AI for All\", \"Andrew\", \"ISBN002\")\n",
        "    member = Member(\"Sai\")\n",
        "    lib.add_book(book1)\n",
        "    lib.add_book(book2)\n",
        "    lib.register_member(member)\n",
        "    return lib, book1, book2, member\n",
        "\n",
        "\n",
        "def test_add_and_remove_book(setup_library):\n",
        "    lib, book1, _, _ = setup_library\n",
        "    assert book1 in lib.books\n",
        "    lib.remove_book(\"ISBN001\")\n",
        "    assert book1 not in lib.books\n",
        "\n",
        "\n",
        "def test_book_cannot_be_borrowed_twice(setup_library):\n",
        "    lib, book1, _, member = setup_library\n",
        "    lib.issue_book(member, book1)\n",
        "    assert not book1.is_available\n",
        "    with pytest.raises(ValueError):\n",
        "        lib.issue_book(member, book1)\n",
        "\n",
        "\n",
        "def test_fine_calculation_for_overdue_books(setup_library):\n",
        "    lib, book1, _, member = setup_library\n",
        "    lib.issue_book(member, book1)\n",
        "    book1.due_date = date.today() - timedelta(days=3)\n",
        "    fine = lib.return_book(member, book1)\n",
        "    assert fine == 15  # ₹5 × 3 days\n"
      ],
      "metadata": {
        "colab": {
          "base_uri": "https://localhost:8080/"
        },
        "id": "J7z1YNw3Lj_n",
        "outputId": "306fc628-74a9-4905-bc27-289ec5ff919b"
      },
      "execution_count": 2,
      "outputs": [
        {
          "output_type": "stream",
          "name": "stdout",
          "text": [
            "Writing test_library_system.py\n"
          ]
        }
      ]
    },
    {
      "cell_type": "code",
      "source": [
        "!pip install pytest"
      ],
      "metadata": {
        "colab": {
          "base_uri": "https://localhost:8080/"
        },
        "id": "WLD9TZFlLrvi",
        "outputId": "46533d05-f662-4976-cdc5-8ff375c74e31"
      },
      "execution_count": 3,
      "outputs": [
        {
          "output_type": "stream",
          "name": "stdout",
          "text": [
            "Requirement already satisfied: pytest in /usr/local/lib/python3.12/dist-packages (8.4.2)\n",
            "Requirement already satisfied: iniconfig>=1 in /usr/local/lib/python3.12/dist-packages (from pytest) (2.3.0)\n",
            "Requirement already satisfied: packaging>=20 in /usr/local/lib/python3.12/dist-packages (from pytest) (25.0)\n",
            "Requirement already satisfied: pluggy<2,>=1.5 in /usr/local/lib/python3.12/dist-packages (from pytest) (1.6.0)\n",
            "Requirement already satisfied: pygments>=2.7.2 in /usr/local/lib/python3.12/dist-packages (from pytest) (2.19.2)\n"
          ]
        }
      ]
    },
    {
      "cell_type": "code",
      "source": [
        "!pytest -v"
      ],
      "metadata": {
        "colab": {
          "base_uri": "https://localhost:8080/"
        },
        "id": "p5C8ztmfLw1w",
        "outputId": "46afe100-c694-439d-bfb9-9747f2da24f3"
      },
      "execution_count": 4,
      "outputs": [
        {
          "output_type": "stream",
          "name": "stdout",
          "text": [
            "\u001b[1m============================= test session starts ==============================\u001b[0m\n",
            "platform linux -- Python 3.12.12, pytest-8.4.2, pluggy-1.6.0 -- /usr/bin/python3\n",
            "cachedir: .pytest_cache\n",
            "rootdir: /content\n",
            "plugins: langsmith-0.4.37, anyio-4.11.0, typeguard-4.4.4\n",
            "\u001b[1mcollecting ... \u001b[0m\u001b[1m\rcollected 3 items                                                              \u001b[0m\n",
            "\n",
            "test_library_system.py::test_add_and_remove_book \u001b[32mPASSED\u001b[0m\u001b[32m                  [ 33%]\u001b[0m\n",
            "test_library_system.py::test_book_cannot_be_borrowed_twice \u001b[32mPASSED\u001b[0m\u001b[32m        [ 66%]\u001b[0m\n",
            "test_library_system.py::test_fine_calculation_for_overdue_books \u001b[32mPASSED\u001b[0m\u001b[32m   [100%]\u001b[0m\n",
            "\n",
            "\u001b[32m============================== \u001b[32m\u001b[1m3 passed\u001b[0m\u001b[32m in 0.02s\u001b[0m\u001b[32m ===============================\u001b[0m\n"
          ]
        }
      ]
    },
    {
      "cell_type": "code",
      "source": [
        "!pytest -v -k \"test_fine_calculation_for_overdue_books\""
      ],
      "metadata": {
        "colab": {
          "base_uri": "https://localhost:8080/"
        },
        "id": "uGw2NDKmL1LS",
        "outputId": "6649a60e-cd08-4a25-8fa7-227d54ec46ff"
      },
      "execution_count": 5,
      "outputs": [
        {
          "output_type": "stream",
          "name": "stdout",
          "text": [
            "\u001b[1m============================= test session starts ==============================\u001b[0m\n",
            "platform linux -- Python 3.12.12, pytest-8.4.2, pluggy-1.6.0 -- /usr/bin/python3\n",
            "cachedir: .pytest_cache\n",
            "rootdir: /content\n",
            "plugins: langsmith-0.4.37, anyio-4.11.0, typeguard-4.4.4\n",
            "\u001b[1mcollecting ... \u001b[0m\u001b[1m\rcollected 3 items / 2 deselected / 1 selected                                  \u001b[0m\n",
            "\n",
            "test_library_system.py::test_fine_calculation_for_overdue_books \u001b[32mPASSED\u001b[0m\u001b[32m   [100%]\u001b[0m\n",
            "\n",
            "\u001b[32m======================= \u001b[32m\u001b[1m1 passed\u001b[0m, \u001b[33m2 deselected\u001b[0m\u001b[32m in 0.02s\u001b[0m\u001b[32m ========================\u001b[0m\n"
          ]
        }
      ]
    }
  ]
}